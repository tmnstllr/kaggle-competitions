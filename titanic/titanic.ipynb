{
 "cells": [
  {
   "cell_type": "code",
   "execution_count": null,
   "id": "initial_id",
   "metadata": {
    "collapsed": true
   },
   "outputs": [],
   "source": [
    "from skopt import BayesSearchCV\n",
    "import pandas as pd\n",
    "import numpy as np\n",
    "from scipy.stats import pearsonr, chi2_contingency\n",
    "import seaborn as sns\n",
    "import matplotlib.pyplot as plt\n",
    "from sklearn.pipeline import Pipeline, make_pipeline\n",
    "from sklearn.preprocessing import StandardScaler, OrdinalEncoder, OneHotEncoder\n",
    "from sklearn.impute import KNNImputer, SimpleImputer\n",
    "from sklearn.compose import ColumnTransformer\n",
    "from sklearn.ensemble import RandomForestClassifier, GradientBoostingClassifier\n",
    "from sklearn.experimental import enable_halving_search_cv\n",
    "from sklearn.model_selection import cross_val_score, StratifiedKFold, HalvingRandomSearchCV, GridSearchCV\n",
    "from sklearn.linear_model import LogisticRegressionCV\n",
    "from sklearn.naive_bayes import GaussianNB, CategoricalNB, ComplementNB, BernoulliNB\n",
    "from sklearn.neighbors import  KNeighborsClassifier\n",
    "\n",
    "from xgboost import XGBClassifier"
   ]
  },
  {
   "cell_type": "markdown",
   "source": [
    "# 0 - Load Dataset"
   ],
   "metadata": {
    "collapsed": false
   },
   "id": "c91b4700c1c5ed3d"
  },
  {
   "cell_type": "code",
   "execution_count": null,
   "outputs": [],
   "source": [
    "train = pd.read_csv(\"train.csv\")\n",
    "test = pd.read_csv(\"test.csv\")"
   ],
   "metadata": {
    "collapsed": false
   },
   "id": "ccf52635b89bf6aa"
  },
  {
   "cell_type": "code",
   "execution_count": null,
   "outputs": [],
   "source": [
    "train"
   ],
   "metadata": {
    "collapsed": false
   },
   "id": "a706b3430e371ac0"
  },
  {
   "cell_type": "code",
   "execution_count": null,
   "outputs": [],
   "source": [
    "train.describe()"
   ],
   "metadata": {
    "collapsed": false
   },
   "id": "e4fbd4c216f6a0f7"
  },
  {
   "cell_type": "markdown",
   "source": [
    "# 1 - Cleaning Data\n",
    "Identify Features with Missing Values"
   ],
   "metadata": {
    "collapsed": false
   },
   "id": "279a9e01359e2bba"
  },
  {
   "cell_type": "code",
   "execution_count": null,
   "outputs": [],
   "source": [
    "train.isna().sum()"
   ],
   "metadata": {
    "collapsed": false
   },
   "id": "39fc6725c1974ac5"
  },
  {
   "cell_type": "markdown",
   "source": [
    "# 2 - Feature Selection\n",
    "### Test Correlation of each Feature with Target Variable"
   ],
   "metadata": {
    "collapsed": false
   },
   "id": "927fd63db4f60365"
  },
  {
   "cell_type": "markdown",
   "source": [
    "##### Pclass"
   ],
   "metadata": {
    "collapsed": false
   },
   "id": "9b4ad113e782d75"
  },
  {
   "cell_type": "code",
   "execution_count": null,
   "outputs": [],
   "source": [
    "# Create a contingency table\n",
    "contingency_table = pd.crosstab(train['Pclass'], train['Survived'])\n",
    "\n",
    "# Perform chi-square test\n",
    "chi2, p_value, _, _ = chi2_contingency(contingency_table)\n",
    "\n",
    "# Interpret the results\n",
    "print(f\"Chi-square value: {chi2}\")\n",
    "print(f\"P-value: {p_value}\")\n",
    "\n",
    "# Calculate the percentage of people who survived for each distinct value of 'Embarked'\n",
    "survival_percentages = contingency_table.divide(contingency_table.sum(axis=1), axis=0) * 100\n",
    "\n",
    "# Display the result\n",
    "print(\"\\nSurvival percentages for each Pclass value:\")\n",
    "print(round(survival_percentages, 2))"
   ],
   "metadata": {
    "collapsed": false
   },
   "id": "ab5f0fa0e9f0b891"
  },
  {
   "cell_type": "markdown",
   "source": [
    "##### Name\n",
    "\n",
    "I am dropping the 'Name' feature for the first ML model due to the following reasons that require additional preprocessing:\n",
    "- sharing a last name could convey information (spouse, relatives, etc.), but I suspect that the information is correlating with Cabin and/or Ticket\n",
    "- first name is not relevant to the problem\n",
    "- title (Master, Mr, Mrs, Ms) might be interesting but is correlating with sex\n",
    "\n",
    "Steps to analyse:\n",
    "1. Extract last name by splitting by ','\n",
    "2. Extract title by splitting by '.'\n",
    "3. Test correlation with other features and target variable\n"
   ],
   "metadata": {
    "collapsed": false
   },
   "id": "8b8c97e6462ef16a"
  },
  {
   "cell_type": "markdown",
   "source": [
    "##### Sex"
   ],
   "metadata": {
    "collapsed": false
   },
   "id": "8d3201612b127603"
  },
  {
   "cell_type": "code",
   "execution_count": null,
   "outputs": [],
   "source": [
    "# Create a contingency table\n",
    "contingency_table = pd.crosstab(train['Sex'], train['Survived'])\n",
    "\n",
    "# Perform chi-square test\n",
    "chi2, p_value, _, _ = chi2_contingency(contingency_table)\n",
    "\n",
    "# Interpret the results\n",
    "print(f\"Chi-square value: {chi2}\")\n",
    "print(f\"P-value: {p_value}\")\n",
    "\n",
    "# Calculate the percentage of people who survived for each distinct value of 'Embarked'\n",
    "survival_percentages = contingency_table.divide(contingency_table.sum(axis=1), axis=0) * 100\n",
    "\n",
    "# Display the result\n",
    "print(\"\\nSurvival percentages for each Sex value:\")\n",
    "print(round(survival_percentages, 2))"
   ],
   "metadata": {
    "collapsed": false
   },
   "id": "a374e439e8e40576"
  },
  {
   "cell_type": "markdown",
   "source": [
    "##### Age"
   ],
   "metadata": {
    "collapsed": false
   },
   "id": "c47e995d6f84e0c8"
  },
  {
   "cell_type": "code",
   "execution_count": null,
   "outputs": [],
   "source": [
    "# Select target variable and feature, ignoring rows with NaN in 'Age'\n",
    "age = train.copy()\n",
    "age = age.dropna(subset=['Age'])\n",
    "target_variable = age['Survived']\n",
    "feature = age['Age']\n",
    "\n",
    "# Calculate Pearson correlation coefficient\n",
    "correlation_coefficient, p_value = pearsonr(target_variable, feature)\n",
    "\n",
    "# Interpret the results\n",
    "print(f\"Pearson Correlation Coefficient: {correlation_coefficient}\")\n",
    "print(f\"P-value: {p_value}\")\n",
    "\n",
    "# Plot boxplots for 'Age' grouped by 'Survived'\n",
    "plt.figure(figsize=(10, 6))\n",
    "sns.boxplot(x='Survived', y='Age', data=age)\n",
    "plt.title(f'Boxplots of Age by Survived\\nPearson Correlation: {correlation_coefficient:.2f}, P-value: {p_value:.4f}')\n",
    "plt.xlabel('Survived')\n",
    "plt.ylabel('Age')\n",
    "plt.show()"
   ],
   "metadata": {
    "collapsed": false
   },
   "id": "4d956343b6675572"
  },
  {
   "cell_type": "markdown",
   "source": [
    "##### SibSp"
   ],
   "metadata": {
    "collapsed": false
   },
   "id": "d261b6efdde96595"
  },
  {
   "cell_type": "code",
   "execution_count": null,
   "outputs": [],
   "source": [
    "target_variable = train['Survived']\n",
    "feature = train['SibSp']\n",
    "\n",
    "# Calculate Pearson correlation coefficient\n",
    "correlation_coefficient, p_value = pearsonr(target_variable, feature)\n",
    "\n",
    "# Interpret the results\n",
    "print(f\"Pearson Correlation Coefficient: {correlation_coefficient}\")\n",
    "print(f\"P-value: {p_value}\")"
   ],
   "metadata": {
    "collapsed": false
   },
   "id": "5842c02a1e23b8f8"
  },
  {
   "cell_type": "markdown",
   "source": [
    "##### Parch"
   ],
   "metadata": {
    "collapsed": false
   },
   "id": "83a940e1acd8a331"
  },
  {
   "cell_type": "code",
   "execution_count": null,
   "outputs": [],
   "source": [
    "target_variable = train['Survived']\n",
    "feature = train['Parch']\n",
    "\n",
    "# Calculate Pearson correlation coefficient\n",
    "correlation_coefficient, p_value = pearsonr(target_variable, feature)\n",
    "\n",
    "# Interpret the results\n",
    "print(f\"Pearson Correlation Coefficient: {correlation_coefficient}\")\n",
    "print(f\"P-value: {p_value}\")"
   ],
   "metadata": {
    "collapsed": false
   },
   "id": "c6533c389e327174"
  },
  {
   "cell_type": "markdown",
   "source": [
    "##### Ticket\n",
    "\n",
    "Drop Ticket because 681 out of 981 samples have distinct values. "
   ],
   "metadata": {
    "collapsed": false
   },
   "id": "885ab292cfd3353"
  },
  {
   "cell_type": "markdown",
   "source": [
    "##### Fare"
   ],
   "metadata": {
    "collapsed": false
   },
   "id": "786f866b187a2e52"
  },
  {
   "cell_type": "code",
   "execution_count": null,
   "outputs": [],
   "source": [
    "target_variable = train['Survived']\n",
    "feature = train['Fare']\n",
    "\n",
    "# Calculate Pearson correlation coefficient\n",
    "correlation_coefficient, p_value = pearsonr(target_variable, feature)\n",
    "\n",
    "# Interpret the results\n",
    "print(f\"Pearson Correlation Coefficient: {correlation_coefficient}\")\n",
    "print(f\"P-value: {p_value}\")\n",
    "\n",
    "# Plot boxplots for 'Age' grouped by 'Survived'\n",
    "plt.figure(figsize=(10, 6))\n",
    "sns.boxplot(x='Survived', y='Fare', data=train)\n",
    "plt.title(f'Boxplots of Fare by Survived\\nPearson Correlation: {correlation_coefficient:.2f}, P-value: {p_value:.4f}')\n",
    "plt.xlabel('Survived')\n",
    "plt.ylabel('Fare')\n",
    "plt.ylim(0, 150)\n",
    "plt.show()"
   ],
   "metadata": {
    "collapsed": false
   },
   "id": "3edbb50e715b6b10"
  },
  {
   "cell_type": "markdown",
   "source": [
    "##### Cabin"
   ],
   "metadata": {
    "collapsed": false
   },
   "id": "a6c4ee49fcc2465f"
  },
  {
   "cell_type": "code",
   "execution_count": null,
   "outputs": [],
   "source": [
    "cabin = train.copy()\n",
    "age = cabin.dropna(subset=['Cabin'])\n",
    "target_variable = cabin['Survived']\n",
    "feature = cabin['Cabin']\n",
    "\n",
    "contingency_table = pd.crosstab(cabin['Cabin'], cabin['Survived'])\n",
    "\n",
    "# Perform chi-square test\n",
    "chi2, p_value, _, _ = chi2_contingency(contingency_table)\n",
    "\n",
    "# Interpret the results\n",
    "print(f\"Chi-square value: {chi2}\")\n",
    "print(f\"P-value: {p_value}\")"
   ],
   "metadata": {
    "collapsed": false
   },
   "id": "69b6cf46941af824"
  },
  {
   "cell_type": "markdown",
   "source": [
    "##### Embarked"
   ],
   "metadata": {
    "collapsed": false
   },
   "id": "5ce0816cfe6ac4ed"
  },
  {
   "cell_type": "code",
   "execution_count": null,
   "outputs": [],
   "source": [
    "# Create a contingency table\n",
    "contingency_table = pd.crosstab(train['Embarked'], train['Survived'])\n",
    "\n",
    "# Perform chi-square test\n",
    "chi2, p_value, _, _ = chi2_contingency(contingency_table)\n",
    "\n",
    "# Interpret the results\n",
    "print(f\"Chi-square value: {chi2}\")\n",
    "print(f\"P-value: {p_value}\")\n",
    "\n",
    "# Calculate the percentage of people who survived for each distinct value of 'Embarked'\n",
    "survival_percentages = contingency_table.divide(contingency_table.sum(axis=1), axis=0) * 100\n",
    "\n",
    "# Display the result\n",
    "print(\"\\nSurvival percentages for each Embarked value:\")\n",
    "print(round(survival_percentages, 2))"
   ],
   "metadata": {
    "collapsed": false
   },
   "id": "234c37e8586e686"
  },
  {
   "cell_type": "markdown",
   "source": [
    "# 3 - Preprocessing"
   ],
   "metadata": {
    "collapsed": false
   },
   "id": "1030e3b836b7be51"
  },
  {
   "cell_type": "code",
   "execution_count": null,
   "outputs": [],
   "source": [
    "col_to_drop = ['Cabin', 'Ticket', 'SibSp', 'Name', 'PassengerId']\n",
    "train_filtered = train.drop(columns=col_to_drop)\n",
    "train_filtered"
   ],
   "metadata": {
    "collapsed": false
   },
   "id": "a1cf7f1382e64b3e"
  },
  {
   "cell_type": "code",
   "execution_count": null,
   "outputs": [],
   "source": [
    "X_train = train_filtered.drop(columns='Survived')\n",
    "y_train = train_filtered['Survived']\n",
    "\n",
    "# Define preprocessing steps for the different types of features\n",
    "numeric_features = ['Age', 'Parch', 'Fare']\n",
    "categorical_features = ['Sex', 'Embarked']\n",
    "ordinal_features = ['Pclass']\n",
    "\n",
    "numeric_transformer = Pipeline(steps=[\n",
    "    ('imputer', KNNImputer(n_neighbors=5)),\n",
    "    ('scaler', StandardScaler())\n",
    "])\n",
    "\n",
    "categorical_transformer = Pipeline(steps=[\n",
    "    ('onehot', OneHotEncoder(drop='first'))\n",
    "])\n",
    "\n",
    "ordinal_transformer = Pipeline(steps=[\n",
    "    ('ordinal', OrdinalEncoder())\n",
    "])\n",
    "\n",
    "# Combine transformers using ColumnTransformer\n",
    "preprocessor = ColumnTransformer(\n",
    "    transformers=[\n",
    "        ('num', numeric_transformer, numeric_features),\n",
    "        ('cat', categorical_transformer, categorical_features),\n",
    "        ('ord', ordinal_transformer, ordinal_features)\n",
    "    ])"
   ],
   "metadata": {
    "collapsed": false
   },
   "id": "9d9252021bd53654"
  },
  {
   "cell_type": "markdown",
   "source": [
    "# 4 - Training & Evaluation"
   ],
   "metadata": {
    "collapsed": false
   },
   "id": "4764371976c56697"
  },
  {
   "cell_type": "code",
   "execution_count": null,
   "outputs": [],
   "source": [
    "random_state = 42"
   ],
   "metadata": {
    "collapsed": false
   },
   "id": "13299cd9682ff079"
  },
  {
   "cell_type": "markdown",
   "source": [
    "### RandomForest"
   ],
   "metadata": {
    "collapsed": false
   },
   "id": "d238574eaabf34be"
  },
  {
   "cell_type": "code",
   "execution_count": null,
   "outputs": [],
   "source": [
    "# Create the final pipeline with preprocessing and RandomForestClassifier\n",
    "pipeline = Pipeline(steps=[\n",
    "    ('preprocessor', preprocessor),\n",
    "    ('classifier', RandomForestClassifier(random_state=random_state))\n",
    "])\n",
    "\n",
    "# Define cross-validation strategy (StratifiedKFold is suitable for classification tasks)\n",
    "cv = StratifiedKFold(n_splits=10, shuffle=True, random_state=random_state)\n",
    "\n",
    "# Define the hyperparameters and their distributions to sample from\n",
    "param_dist = {\n",
    "    'classifier__n_estimators': (10, 30),\n",
    "    'classifier__max_depth': (1, 8),\n",
    "    'classifier__min_samples_split': (2, 10),\n",
    "    'classifier__criterion': ['gini', 'entropy', 'log_loss'],\n",
    "    'classifier__max_features': ['sqrt', 'log2', None]\n",
    "}\n",
    "\n",
    "random_search = HalvingRandomSearchCV(\n",
    "    pipeline,\n",
    "    param_distributions=param_dist,\n",
    "    cv=cv,\n",
    "    scoring='accuracy',\n",
    "    n_jobs=-1,\n",
    "    random_state=random_state,\n",
    "    factor=4,\n",
    ")\n",
    "\n",
    "random_search.fit(X_train, y_train)\n",
    "\n",
    "print(\"Best Hyperparameters:\", random_search.best_params_)\n",
    "print(f\"Best Mean Accuracy across Folds: {random_search.best_score_:.4f}\")"
   ],
   "metadata": {
    "collapsed": false
   },
   "id": "8096c987e66f4301"
  },
  {
   "cell_type": "code",
   "execution_count": null,
   "outputs": [],
   "source": [
    "# Define the hyperparameters and their values to search over\n",
    "param_grid = {\n",
    "    'classifier__n_estimators': [6, 10, 16, 20, 30],\n",
    "    'classifier__max_depth': [2, 4, 6, 8, 10],\n",
    "    'classifier__min_samples_split': [2, 3, 4],\n",
    "    #'classifier__criterion': ['gini', 'entropy', 'log_loss'],\n",
    "    #'classifier__max_features': ['sqrt', 'log2', None]\n",
    "}\n",
    "\n",
    "# Create the final pipeline with preprocessing and RandomForestClassifier\n",
    "pipeline = Pipeline(steps=[\n",
    "    ('preprocessor', preprocessor),\n",
    "    ('classifier', RandomForestClassifier(random_state=random_state))\n",
    "])\n",
    "\n",
    "# Define cross-validation strategy (StratifiedKFold is suitable for classification tasks)\n",
    "cv = StratifiedKFold(n_splits=10, shuffle=True, random_state=random_state)\n",
    "\n",
    "# Create GridSearchCV object\n",
    "grid_search = GridSearchCV(\n",
    "    pipeline,\n",
    "    param_grid,\n",
    "    cv=cv,\n",
    "    scoring='accuracy',\n",
    "    n_jobs=-1\n",
    ")\n",
    "\n",
    "# Fit the GridSearchCV object to the data\n",
    "grid_search.fit(X_train, y_train)\n",
    "\n",
    "# Print the best hyperparameter values and corresponding mean cross-validated score\n",
    "print(\"Best Hyperparameters:\", grid_search.best_params_)\n",
    "print(f\"Best Mean Accuracy across Folds: {grid_search.best_score_:.4f}\")"
   ],
   "metadata": {
    "collapsed": false
   },
   "id": "1008b68eb2bc02fe"
  },
  {
   "cell_type": "code",
   "execution_count": null,
   "outputs": [],
   "source": [
    "# Define the hyperparameters and their values to search over\n",
    "param_grid = {\n",
    "    'classifier__n_estimators': [69],\n",
    "    'classifier__max_depth': [11],\n",
    "    'classifier__min_samples_split': [4],\n",
    "    'classifier__criterion': ['gini'],\n",
    "    'classifier__max_features': [None]\n",
    "}\n",
    "\n",
    "# Create the final pipeline with preprocessing and RandomForestClassifier\n",
    "pipeline = Pipeline(steps=[\n",
    "    ('preprocessor', preprocessor),\n",
    "    ('classifier', RandomForestClassifier(random_state=random_state))\n",
    "])\n",
    "\n",
    "# Define cross-validation strategy (StratifiedKFold is suitable for classification tasks)\n",
    "cv = StratifiedKFold(n_splits=10, shuffle=True, random_state=random_state)\n",
    "\n",
    "# Create GridSearchCV object\n",
    "grid_search = GridSearchCV(\n",
    "    pipeline,\n",
    "    param_grid,\n",
    "    cv=cv,\n",
    "    scoring='accuracy',\n",
    "    n_jobs=-1\n",
    ")\n",
    "\n",
    "# Fit the GridSearchCV object to the data\n",
    "grid_search.fit(X_train, y_train)\n",
    "\n",
    "# Print the best hyperparameter values and corresponding mean cross-validated score\n",
    "print(\"Best Hyperparameters:\", grid_search.best_params_)\n",
    "print(f\"Best Mean Accuracy across Folds: {grid_search.best_score_:.4f}\")"
   ],
   "metadata": {
    "collapsed": false
   },
   "id": "36fb68b55161f85"
  },
  {
   "cell_type": "code",
   "execution_count": null,
   "outputs": [],
   "source": [
    "pd.DataFrame(grid_search.cv_results_)"
   ],
   "metadata": {
    "collapsed": false
   },
   "id": "afbc1a44ebabb6dd"
  },
  {
   "cell_type": "code",
   "execution_count": null,
   "outputs": [],
   "source": [
    "# Define the hyperparameters and their search spaces\n",
    "param_space = {\n",
    "    'classifier__n_estimators': (20, 600),\n",
    "    'classifier__max_depth': (1, 80),\n",
    "    'classifier__min_samples_split': (2, 20),\n",
    "    'classifier__criterion': ['gini', 'entropy', 'log_loss'],\n",
    "}\n",
    "\n",
    "# Create the final pipeline with preprocessing and RandomForestClassifier\n",
    "pipeline = Pipeline(steps=[\n",
    "    ('preprocessor', preprocessor),\n",
    "    ('classifier', RandomForestClassifier(random_state=random_state))\n",
    "])\n",
    "\n",
    "# Define cross-validation strategy (StratifiedKFold is suitable for classification tasks)\n",
    "cv = StratifiedKFold(n_splits=10, shuffle=True, random_state=random_state)\n",
    "\n",
    "# Create BayesSearchCV object\n",
    "bayes_search = BayesSearchCV(\n",
    "    pipeline,\n",
    "    search_spaces=param_space,\n",
    "    n_iter=64,\n",
    "    cv=cv,\n",
    "    scoring='accuracy',\n",
    "    n_jobs=8,\n",
    "    n_points=2,\n",
    "    random_state=random_state,\n",
    "    verbose=0,\n",
    "    pre_dispatch='2*n_jobs'\n",
    ")\n",
    "\n",
    "# Fit the BayesSearchCV object to the data\n",
    "bayes_search.fit(X_train, y_train)\n",
    "\n",
    "# Print the best hyperparameter values and corresponding mean cross-validated score\n",
    "print(\"Best Hyperparameters:\", bayes_search.best_params_)\n",
    "print(f\"Best Mean Accuracy across Folds: {bayes_search.best_score_:.4f}\")\n"
   ],
   "metadata": {
    "collapsed": false
   },
   "id": "9b8f76f110c14767"
  },
  {
   "cell_type": "code",
   "execution_count": null,
   "outputs": [],
   "source": [
    "pd.DataFrame(bayes_search.cv_results_)"
   ],
   "metadata": {
    "collapsed": false
   },
   "id": "7765e439cbd4caa3"
  },
  {
   "cell_type": "markdown",
   "source": [
    "### Logistic Regression "
   ],
   "metadata": {
    "collapsed": false
   },
   "id": "d9a5490ee128877d"
  },
  {
   "cell_type": "code",
   "execution_count": null,
   "outputs": [],
   "source": [
    "# Define the hyperparameters and their search spaces\n",
    "param_space = {\n",
    "    'classifier__max_iter': (50, 10000),\n",
    "    'classifier__penalty': ['l2'], # ['l1', 'l2', 'elasticnet', None]\n",
    "    'classifier__tol': (1e-6, 50),\n",
    "    'classifier__solver': ['newton-cholesky', 'lbfgs'], # {‘lbfgs’, ‘liblinear’, ‘newton-cg’, ‘newton-cholesky’, ‘sag’, ‘saga’}\n",
    "    \n",
    "}\n",
    "\n",
    "# Create the final pipeline with preprocessing and RandomForestClassifier\n",
    "pipeline = Pipeline(steps=[\n",
    "    ('preprocessor', preprocessor),\n",
    "    ('classifier', LogisticRegressionCV(random_state=random_state))\n",
    "])\n",
    "\n",
    "# Define cross-validation strategy (StratifiedKFold is suitable for classification tasks)\n",
    "cv = StratifiedKFold(n_splits=10, shuffle=True, random_state=random_state)\n",
    "\n",
    "# Create BayesSearchCV object\n",
    "bayes_search = BayesSearchCV(\n",
    "    pipeline,\n",
    "    search_spaces=param_space,\n",
    "    n_iter=128,\n",
    "    cv=cv,\n",
    "    scoring='accuracy',\n",
    "    n_jobs=8,\n",
    "    n_points=2,\n",
    "    random_state=random_state,\n",
    "    verbose=0,\n",
    "    pre_dispatch='2*n_jobs'\n",
    ")\n",
    "\n",
    "# Fit the BayesSearchCV object to the data\n",
    "bayes_search.fit(X_train, y_train)\n",
    "\n",
    "# Print the best hyperparameter values and corresponding mean cross-validated score\n",
    "print(\"Best Hyperparameters:\", bayes_search.best_params_)\n",
    "print(f\"Best Mean Accuracy across Folds: {bayes_search.best_score_:.4f}\")\n"
   ],
   "metadata": {
    "collapsed": false
   },
   "id": "5e88e3ca52a31545"
  },
  {
   "cell_type": "code",
   "execution_count": null,
   "outputs": [],
   "source": [
    "pd.DataFrame(bayes_search.cv_results_)"
   ],
   "metadata": {
    "collapsed": false
   },
   "id": "7821dd969ccd9ce4"
  },
  {
   "cell_type": "markdown",
   "source": [
    "### GradienBoostingClassifier"
   ],
   "metadata": {
    "collapsed": false
   },
   "id": "c998e2decbdf3b01"
  },
  {
   "cell_type": "code",
   "execution_count": null,
   "outputs": [],
   "source": [
    "# Define the hyperparameters and their search spaces\n",
    "param_space = {\n",
    "    'classifier__loss': ['log_loss', 'exponential'],\n",
    "    'classifier__learning_rate': (1e-2, 3),\n",
    "    'classifier__n_estimators': (10, 100),\n",
    "    'classifier__subsample': (0.6, 1),\n",
    "    'classifier__min_samples_leaf': (0.0001, 0.1),\n",
    "    'classifier__max_depth': (2, 30)\n",
    "\n",
    "}\n",
    "\n",
    "# Create the final pipeline with preprocessing and RandomForestClassifier\n",
    "pipeline = Pipeline(steps=[\n",
    "    ('preprocessor', preprocessor),\n",
    "    ('classifier', GradientBoostingClassifier(random_state=random_state))\n",
    "])\n",
    "\n",
    "# Define cross-validation strategy (StratifiedKFold is suitable for classification tasks)\n",
    "cv = StratifiedKFold(n_splits=10, shuffle=True, random_state=random_state)\n",
    "\n",
    "# Create BayesSearchCV object\n",
    "bayes_search = BayesSearchCV(\n",
    "    pipeline,\n",
    "    search_spaces=param_space,\n",
    "    n_iter=128,\n",
    "    cv=cv,\n",
    "    scoring='accuracy',\n",
    "    n_jobs=8,\n",
    "    n_points=2,\n",
    "    random_state=random_state,\n",
    "    verbose=0,\n",
    "    pre_dispatch='2*n_jobs'\n",
    ")\n",
    "\n",
    "# Fit the BayesSearchCV object to the data\n",
    "bayes_search.fit(X_train, y_train)\n",
    "\n",
    "# Print the best hyperparameter values and corresponding mean cross-validated score\n",
    "print(\"Best Hyperparameters:\", bayes_search.best_params_)\n",
    "print(f\"Best Mean Accuracy across Folds: {bayes_search.best_score_:.4f}\")\n"
   ],
   "metadata": {
    "collapsed": false
   },
   "id": "901efd512f7c64a5"
  },
  {
   "cell_type": "code",
   "execution_count": null,
   "outputs": [],
   "source": [
    "pd.DataFrame(bayes_search.cv_results_)"
   ],
   "metadata": {
    "collapsed": false
   },
   "id": "4c3e87b6e89cb272"
  },
  {
   "cell_type": "markdown",
   "source": [
    "### XGBoost"
   ],
   "metadata": {
    "collapsed": false
   },
   "id": "fecd226878d989d4"
  },
  {
   "cell_type": "code",
   "execution_count": null,
   "outputs": [],
   "source": [
    "# Define the hyperparameters and their search spaces\n",
    "param_space = {\n",
    "    'classifier__learning_rate': (1e-3, 3),\n",
    "    'classifier__max_depth': (4, 12),\n",
    "    'classifier__n_estimators': (6, 24),\n",
    "    #'classifier__min_split_loss': (0, 1.0),\n",
    "    #'classifier__subsample': (0.5, 1),\n",
    "    'classifier__lambda': (1, 100),\n",
    "    'classifier__alpha': (1e-3, 100)\n",
    "}\n",
    "\n",
    "pipeline = Pipeline(steps=[\n",
    "    ('preprocessor', preprocessor),\n",
    "    ('classifier', XGBClassifier(random_state=random_state, nthread=16))\n",
    "])\n",
    "\n",
    "# Define cross-validation strategy (StratifiedKFold is suitable for classification tasks)\n",
    "cv = StratifiedKFold(n_splits=10, shuffle=True, random_state=random_state)\n",
    "\n",
    "# Create BayesSearchCV object\n",
    "bayes_search = BayesSearchCV(\n",
    "    pipeline,\n",
    "    search_spaces=param_space,\n",
    "    n_iter=64,\n",
    "    cv=cv,\n",
    "    scoring='accuracy',\n",
    "    n_jobs=8,\n",
    "    n_points=2,\n",
    "    random_state=random_state,\n",
    "    verbose=0,\n",
    "    pre_dispatch='2*n_jobs'\n",
    ")\n",
    "\n",
    "# Fit the BayesSearchCV object to the data\n",
    "bayes_search.fit(X_train, y_train)\n",
    "\n",
    "# Print the best hyperparameter values and corresponding mean cross-validated score\n",
    "print(\"Best Hyperparameters:\", bayes_search.best_params_)\n",
    "print(f\"Best Mean Accuracy across Folds: {bayes_search.best_score_:.4f}\")\n"
   ],
   "metadata": {
    "collapsed": false
   },
   "id": "30127b7b9e875fbb"
  },
  {
   "cell_type": "code",
   "execution_count": null,
   "outputs": [],
   "source": [
    "pd.DataFrame(bayes_search.cv_results_)"
   ],
   "metadata": {
    "collapsed": false
   },
   "id": "5cabda4d3c85ee02"
  },
  {
   "cell_type": "markdown",
   "source": [
    "### Naive Bayes Classifier"
   ],
   "metadata": {
    "collapsed": false
   },
   "id": "592d08f2c752ff71"
  },
  {
   "cell_type": "code",
   "execution_count": null,
   "outputs": [],
   "source": [
    "# Define the hyperparameters and their values for each Naive Bayes classifier\n",
    "param_grid = {\n",
    "    'classifier': [GaussianNB(), BernoulliNB()]\n",
    "}\n",
    "\n",
    "# Create the final pipeline with preprocessing and Naive Bayes classifier\n",
    "pipeline = Pipeline(steps=[\n",
    "    ('preprocessor', preprocessor),\n",
    "    ('classifier', GaussianNB())  # Default to CategoricalNB\n",
    "])\n",
    "\n",
    "# Define cross-validation strategy (StratifiedKFold is suitable for classification tasks)\n",
    "cv = StratifiedKFold(n_splits=10, shuffle=True, random_state=random_state)\n",
    "\n",
    "# Create GridSearchCV object\n",
    "grid_search = GridSearchCV(\n",
    "    pipeline,\n",
    "    param_grid,\n",
    "    cv=cv,\n",
    "    scoring='accuracy',\n",
    "    n_jobs=8\n",
    ")\n",
    "\n",
    "# Fit the GridSearchCV object to the data\n",
    "grid_search.fit(X_train, y_train)\n",
    "\n",
    "# Print the best hyperparameter values and corresponding mean cross-validated score\n",
    "print(\"Best Hyperparameters:\", grid_search.best_params_)\n",
    "print(f\"Best Mean Accuracy across Folds: {grid_search.best_score_:.4f}\")"
   ],
   "metadata": {
    "collapsed": false
   },
   "id": "aee1af62a4133caf"
  },
  {
   "cell_type": "markdown",
   "source": [
    "### KNearestNeighbours"
   ],
   "metadata": {
    "collapsed": false
   },
   "id": "a4eda1dd98495a75"
  },
  {
   "cell_type": "code",
   "execution_count": null,
   "outputs": [],
   "source": [
    "# Define the hyperparameters and their values for each Naive Bayes classifier\n",
    "param_grid = {\n",
    "    'classifier__n_neighbors': [3, 4, 5, 6],\n",
    "    'classifier__weights': ['uniform', 'distance'],\n",
    "    'classifier__algorithm': ['auto', 'ball_tree', 'kd_tree', 'brute'], \n",
    "    'classifier__p': np.geomspace(1, 3, 6),\n",
    "    'classifier__leaf_size': np.geomspace(1, 50, 10, dtype=int),\n",
    "}\n",
    "\n",
    "pipeline = Pipeline(steps=[\n",
    "    ('preprocessor', preprocessor),\n",
    "    ('classifier', KNeighborsClassifier())  # Default to CategoricalNB\n",
    "])\n",
    "\n",
    "# Define cross-validation strategy (StratifiedKFold is suitable for classification tasks)\n",
    "cv = StratifiedKFold(n_splits=10, shuffle=True, random_state=random_state)\n",
    "\n",
    "# Create GridSearchCV object\n",
    "grid_search = GridSearchCV(\n",
    "    pipeline,\n",
    "    param_grid,\n",
    "    cv=cv,\n",
    "    scoring='accuracy',\n",
    "    n_jobs=8\n",
    ")\n",
    "\n",
    "# Fit the GridSearchCV object to the data\n",
    "grid_search.fit(X_train, y_train)\n",
    "\n",
    "# Print the best hyperparameter values and corresponding mean cross-validated score\n",
    "print(\"Best Hyperparameters:\", grid_search.best_params_)\n",
    "print(f\"Best Mean Accuracy across Folds: {grid_search.best_score_:.4f}\")"
   ],
   "metadata": {
    "collapsed": false
   },
   "id": "ae8566d9c296a4c2"
  },
  {
   "cell_type": "markdown",
   "source": [
    "# Test and Submission"
   ],
   "metadata": {
    "collapsed": false
   },
   "id": "7479b03a3389173c"
  },
  {
   "cell_type": "code",
   "execution_count": null,
   "outputs": [],
   "source": [
    "X_test = test.drop(columns=col_to_drop)\n",
    "\n",
    "predictions = bayes_search.predict(X_test)\n",
    "\n",
    "output = pd.DataFrame({'PassengerId': test.PassengerId, 'Survived': predictions})\n",
    "output.to_csv('submission_4.csv', index=False)\n",
    "print(\"Your submission was successfully saved!\")"
   ],
   "metadata": {
    "collapsed": false
   },
   "id": "8e0893eba4fa672e"
  },
  {
   "cell_type": "code",
   "execution_count": null,
   "outputs": [],
   "source": [
    "X_test = test.drop(columns=col_to_drop)\n",
    "\n",
    "predictions = grid_search.predict(X_test)\n",
    "\n",
    "output = pd.DataFrame({'PassengerId': test.PassengerId, 'Survived': predictions})\n",
    "output.to_csv('submission_5.csv', index=False)\n",
    "print(\"Your submission was successfully saved!\")"
   ],
   "metadata": {
    "collapsed": false
   },
   "id": "135bfe8504694b3b"
  },
  {
   "cell_type": "code",
   "execution_count": null,
   "outputs": [],
   "source": [],
   "metadata": {
    "collapsed": false
   },
   "id": "6ccd549ab85d09ab"
  }
 ],
 "metadata": {
  "kernelspec": {
   "display_name": "Python 3",
   "language": "python",
   "name": "python3"
  },
  "language_info": {
   "codemirror_mode": {
    "name": "ipython",
    "version": 2
   },
   "file_extension": ".py",
   "mimetype": "text/x-python",
   "name": "python",
   "nbconvert_exporter": "python",
   "pygments_lexer": "ipython2",
   "version": "2.7.6"
  }
 },
 "nbformat": 4,
 "nbformat_minor": 5
}
